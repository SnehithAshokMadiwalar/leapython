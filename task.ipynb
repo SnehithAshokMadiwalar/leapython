{
  "nbformat": 4,
  "nbformat_minor": 0,
  "metadata": {
    "colab": {
      "provenance": [],
      "authorship_tag": "ABX9TyMduGi4SQMq90h9VazoeXqG",
      "include_colab_link": true
    },
    "kernelspec": {
      "name": "python3",
      "display_name": "Python 3"
    },
    "language_info": {
      "name": "python"
    }
  },
  "cells": [
    {
      "cell_type": "markdown",
      "metadata": {
        "id": "view-in-github",
        "colab_type": "text"
      },
      "source": [
        "<a href=\"https://colab.research.google.com/github/SnehithAshokMadiwalar/leapython/blob/main/task.ipynb\" target=\"_parent\"><img src=\"https://colab.research.google.com/assets/colab-badge.svg\" alt=\"Open In Colab\"/></a>"
      ]
    },
    {
      "cell_type": "code",
      "execution_count": null,
      "metadata": {
        "colab": {
          "base_uri": "https://localhost:8080/"
        },
        "id": "wt9pJYRBiocI",
        "outputId": "b8ab9c68-ccd3-4f87-b727-9c08413d0760"
      },
      "outputs": [
        {
          "output_type": "stream",
          "name": "stdout",
          "text": [
            "enter principle amount10000\n",
            "enter rate of intrest per year3\n",
            "enter time10\n",
            "3000.0\n"
          ]
        }
      ],
      "source": [
        "P=int(input(\"enter principle amount\"))\n",
        "R=float(input(\"enter rate of intrest per year\"))\n",
        "T=int(input(\"enter time\"))\n",
        "SI=(P*R*T)/100\n",
        "print(SI)"
      ]
    },
    {
      "cell_type": "code",
      "source": [],
      "metadata": {
        "id": "vf1aNnnGWUJZ"
      },
      "execution_count": null,
      "outputs": []
    },
    {
      "cell_type": "code",
      "source": [
        "L=int(input(\"enter the  length\"))\n",
        "B=int(input(\"enter the breadth\"))\n",
        "area=L*B\n",
        "Perimeter=2*(L+B)\n",
        "print(area)\n",
        "print(Perimeter)"
      ],
      "metadata": {
        "id": "3KYcfQ4ZkynB"
      },
      "execution_count": null,
      "outputs": []
    },
    {
      "cell_type": "code",
      "source": [
        "min=int(input(\"enter time in min\"))\n",
        "hour=min//60\n",
        "print(hour)"
      ],
      "metadata": {
        "id": "_FpAxNq0nsI3",
        "colab": {
          "base_uri": "https://localhost:8080/"
        },
        "outputId": "5247700a-d861-42be-b5ab-74e452290052"
      },
      "execution_count": 1,
      "outputs": [
        {
          "output_type": "stream",
          "name": "stdout",
          "text": [
            "enter time in min250\n",
            "4\n"
          ]
        }
      ]
    },
    {
      "cell_type": "code",
      "source": [
        "X=int(input(\"enter the number\"))\n",
        "if X%2==0:\n",
        "  print(Value is even)\n",
        "else:\n",
        "  print(value is odd)"
      ],
      "metadata": {
        "id": "kTAWEllvjfSE"
      },
      "execution_count": null,
      "outputs": []
    },
    {
      "cell_type": "code",
      "source": [
        "fact =1\n",
        "for i in range(1,8):\n",
        "  fact*=i\n",
        "  print(fact)"
      ],
      "metadata": {
        "colab": {
          "base_uri": "https://localhost:8080/"
        },
        "id": "XGW3bpZxm3j6",
        "outputId": "6383b44c-a1de-4a8e-ce6d-95c3e86941e5"
      },
      "execution_count": 15,
      "outputs": [
        {
          "output_type": "stream",
          "name": "stdout",
          "text": [
            "1\n",
            "2\n",
            "6\n",
            "24\n",
            "120\n",
            "720\n",
            "5040\n"
          ]
        }
      ]
    },
    {
      "cell_type": "code",
      "source": [
        "n=10\n",
        "a,b=0,1\n",
        "for i in range(n):\n",
        "  print(a,end=\"\")\n",
        "  a,b=b,a+_b"
      ],
      "metadata": {
        "id": "rpajUFsYp0Vz"
      },
      "execution_count": null,
      "outputs": []
    }
  ]
}