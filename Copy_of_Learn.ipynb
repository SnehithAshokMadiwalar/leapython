{
  "nbformat": 4,
  "nbformat_minor": 0,
  "metadata": {
    "colab": {
      "provenance": [],
      "gpuType": "V28",
      "authorship_tag": "ABX9TyPoLbRYPaqgzl2WJ56SjAIz",
      "include_colab_link": true
    },
    "kernelspec": {
      "name": "python3",
      "display_name": "Python 3"
    },
    "language_info": {
      "name": "python"
    },
    "accelerator": "TPU"
  },
  "cells": [
    {
      "cell_type": "markdown",
      "metadata": {
        "id": "view-in-github",
        "colab_type": "text"
      },
      "source": [
        "<a href=\"https://colab.research.google.com/github/SnehithAshokMadiwalar/leapython/blob/main/Copy_of_Learn.ipynb\" target=\"_parent\"><img src=\"https://colab.research.google.com/assets/colab-badge.svg\" alt=\"Open In Colab\"/></a>"
      ]
    },
    {
      "cell_type": "code",
      "execution_count": null,
      "metadata": {
        "colab": {
          "base_uri": "https://localhost:8080/"
        },
        "id": "0LKXjq1EhlJr",
        "outputId": "647f686a-c33e-4ace-d51d-c1d7f333322a"
      },
      "outputs": [
        {
          "output_type": "stream",
          "name": "stdout",
          "text": [
            "coin:HT\n"
          ]
        }
      ],
      "source": [
        "class coin:\n",
        " def __init__(self, head, tail):\n",
        "      self.head=head\n",
        "      self.tail=tail\n",
        " def out_come(self):\n",
        "   print(f\"coin:{self.head}{self.tail}\")\n",
        "c=coin(\"H\", \"T\")\n",
        "c.out_come()"
      ]
    },
    {
      "cell_type": "code",
      "source": [
        "class gender:\n",
        "   def __init__(self, male, female) :\n",
        "       self.male=male\n",
        "       self.female=female\n",
        "   def way(self):\n",
        "       print(f\"gender:{self.male}, {self.female}\")\n",
        "G=gender(\"boy\", \"girl\")\n",
        "G.way()"
      ],
      "metadata": {
        "colab": {
          "base_uri": "https://localhost:8080/"
        },
        "id": "Un1aRMPbm_1A",
        "outputId": "6be0d4f6-6895-4d61-9130-9f63589c2eda"
      },
      "execution_count": null,
      "outputs": [
        {
          "output_type": "stream",
          "name": "stdout",
          "text": [
            "gender:boy, girl\n"
          ]
        }
      ]
    },
    {
      "cell_type": "code",
      "source": [
        "class game:\n",
        "    def __init__(self, task, time):\n",
        "        self.task=task\n",
        "        self.time=time\n",
        "    def play(self):\n",
        "        print(f\"game: {self.task} in a {self.time}\")\n",
        "Run=game(\"jump\", \"10 sec\")\n",
        "Run.play()"
      ],
      "metadata": {
        "colab": {
          "base_uri": "https://localhost:8080/"
        },
        "id": "MVXV3_nfoo7q",
        "outputId": "82e0410f-c23e-47b6-8717-a936493f7fd3"
      },
      "execution_count": null,
      "outputs": [
        {
          "output_type": "stream",
          "name": "stdout",
          "text": [
            "game: jump in a 10 sec\n"
          ]
        }
      ]
    }
  ]
}